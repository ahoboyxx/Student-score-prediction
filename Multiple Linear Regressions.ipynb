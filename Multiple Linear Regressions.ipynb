{
 "cells": [
  {
   "cell_type": "code",
   "execution_count": 2,
   "id": "a3282976",
   "metadata": {},
   "outputs": [],
   "source": [
    "import numpy as np\n",
    "import pandas as pd\n",
    "import os\n",
    "import matplotlib.pyplot as plt\n",
    "from sklearn.metrics import r2_score"
   ]
  },
  {
   "cell_type": "code",
   "execution_count": 3,
   "id": "89db3711",
   "metadata": {},
   "outputs": [
    {
     "data": {
      "text/plain": [
       "'C:\\\\Users\\\\chinm'"
      ]
     },
     "execution_count": 3,
     "metadata": {},
     "output_type": "execute_result"
    }
   ],
   "source": [
    "os.getcwd()"
   ]
  },
  {
   "cell_type": "code",
   "execution_count": 11,
   "id": "dfa87158",
   "metadata": {},
   "outputs": [],
   "source": [
    "os.chdir('D:\\\\ai and ml\\\\')"
   ]
  },
  {
   "cell_type": "code",
   "execution_count": 23,
   "id": "ee53d1af",
   "metadata": {},
   "outputs": [
    {
     "name": "stdout",
     "output_type": "stream",
     "text": [
      "    Hours Studied  Previous Scores  Sleep Hours  \\\n",
      "0               7               99            9   \n",
      "1               4               82            4   \n",
      "2               8               51            7   \n",
      "3               5               52            5   \n",
      "4               7               75            8   \n",
      "5               3               78            9   \n",
      "6               7               73            5   \n",
      "7               8               45            4   \n",
      "8               5               77            8   \n",
      "9               4               89            4   \n",
      "10              8               91            4   \n",
      "11              8               79            6   \n",
      "12              3               47            9   \n",
      "13              6               47            4   \n",
      "14              5               79            7   \n",
      "15              2               72            4   \n",
      "16              8               73            8   \n",
      "17              6               83            7   \n",
      "18              2               54            4   \n",
      "19              5               75            7   \n",
      "20              1               99            4   \n",
      "21              6               96            9   \n",
      "22              9               74            7   \n",
      "23              1               85            5   \n",
      "24              3               61            6   \n",
      "25              7               62            7   \n",
      "26              4               79            8   \n",
      "27              9               84            6   \n",
      "28              3               94            6   \n",
      "29              5               90            4   \n",
      "30              3               61            7   \n",
      "31              7               44            9   \n",
      "32              5               70            6   \n",
      "33              9               52            8   \n",
      "34              7               67            9   \n",
      "35              2               97            9   \n",
      "36              4               59            8   \n",
      "37              9               72            8   \n",
      "38              2               55            4   \n",
      "39              9               68            5   \n",
      "40              5               62            7   \n",
      "41              2               63            6   \n",
      "42              4               73            7   \n",
      "43              7               46            9   \n",
      "44              8               77            6   \n",
      "45              3               76            4   \n",
      "46              1               43            7   \n",
      "47              4               73            4   \n",
      "\n",
      "    Sample Question Papers Practiced  Performance Index  \n",
      "0                                  1                 91  \n",
      "1                                  2                 65  \n",
      "2                                  2                 45  \n",
      "3                                  2                 36  \n",
      "4                                  5                 66  \n",
      "5                                  6                 61  \n",
      "6                                  6                 63  \n",
      "7                                  6                 42  \n",
      "8                                  2                 61  \n",
      "9                                  0                 69  \n",
      "10                                 5                 84  \n",
      "11                                 2                 73  \n",
      "12                                 2                 27  \n",
      "13                                 2                 33  \n",
      "14                                 8                 68  \n",
      "15                                 3                 43  \n",
      "16                                 4                 67  \n",
      "17                                 2                 70  \n",
      "18                                 9                 30  \n",
      "19                                 0                 63  \n",
      "20                                 3                 71  \n",
      "21                                 0                 85  \n",
      "22                                 6                 73  \n",
      "23                                 6                 57  \n",
      "24                                 3                 35  \n",
      "25                                 4                 49  \n",
      "26                                 9                 66  \n",
      "27                                 6                 83  \n",
      "28                                 5                 74  \n",
      "29                                 3                 74  \n",
      "30                                 3                 39  \n",
      "31                                 1                 36  \n",
      "32                                 9                 58  \n",
      "33                                 1                 47  \n",
      "34                                 3                 60  \n",
      "35                                 4                 74  \n",
      "36                                 3                 42  \n",
      "37                                 2                 68  \n",
      "38                                 1                 32  \n",
      "39                                 3                 64  \n",
      "40                                 4                 45  \n",
      "41                                 0                 39  \n",
      "42                                 0                 58  \n",
      "43                                 5                 36  \n",
      "44                                 4                 71  \n",
      "45                                 3                 54  \n",
      "46                                 0                 17  \n",
      "47                                 6                 54  \n"
     ]
    }
   ],
   "source": [
    "df1 = pd.read_csv('Student_Performance.csv')\n",
    "print(df1)"
   ]
  },
  {
   "cell_type": "code",
   "execution_count": 24,
   "id": "5e25d8a7",
   "metadata": {},
   "outputs": [
    {
     "data": {
      "text/plain": [
       "array([[ 7, 99,  9,  1],\n",
       "       [ 4, 82,  4,  2],\n",
       "       [ 8, 51,  7,  2],\n",
       "       [ 5, 52,  5,  2],\n",
       "       [ 7, 75,  8,  5],\n",
       "       [ 3, 78,  9,  6],\n",
       "       [ 7, 73,  5,  6],\n",
       "       [ 8, 45,  4,  6],\n",
       "       [ 5, 77,  8,  2],\n",
       "       [ 4, 89,  4,  0],\n",
       "       [ 8, 91,  4,  5],\n",
       "       [ 8, 79,  6,  2],\n",
       "       [ 3, 47,  9,  2],\n",
       "       [ 6, 47,  4,  2],\n",
       "       [ 5, 79,  7,  8],\n",
       "       [ 2, 72,  4,  3],\n",
       "       [ 8, 73,  8,  4],\n",
       "       [ 6, 83,  7,  2],\n",
       "       [ 2, 54,  4,  9],\n",
       "       [ 5, 75,  7,  0],\n",
       "       [ 1, 99,  4,  3],\n",
       "       [ 6, 96,  9,  0],\n",
       "       [ 9, 74,  7,  6],\n",
       "       [ 1, 85,  5,  6],\n",
       "       [ 3, 61,  6,  3],\n",
       "       [ 7, 62,  7,  4],\n",
       "       [ 4, 79,  8,  9],\n",
       "       [ 9, 84,  6,  6],\n",
       "       [ 3, 94,  6,  5],\n",
       "       [ 5, 90,  4,  3],\n",
       "       [ 3, 61,  7,  3],\n",
       "       [ 7, 44,  9,  1],\n",
       "       [ 5, 70,  6,  9],\n",
       "       [ 9, 52,  8,  1],\n",
       "       [ 7, 67,  9,  3],\n",
       "       [ 2, 97,  9,  4],\n",
       "       [ 4, 59,  8,  3],\n",
       "       [ 9, 72,  8,  2],\n",
       "       [ 2, 55,  4,  1],\n",
       "       [ 9, 68,  5,  3],\n",
       "       [ 5, 62,  7,  4],\n",
       "       [ 2, 63,  6,  0],\n",
       "       [ 4, 73,  7,  0],\n",
       "       [ 7, 46,  9,  5],\n",
       "       [ 8, 77,  6,  4],\n",
       "       [ 3, 76,  4,  3],\n",
       "       [ 1, 43,  7,  0],\n",
       "       [ 4, 73,  4,  6]], dtype=int64)"
      ]
     },
     "execution_count": 24,
     "metadata": {},
     "output_type": "execute_result"
    }
   ],
   "source": [
    "x= df1.iloc[:,:-1].values\n",
    "x"
   ]
  },
  {
   "cell_type": "code",
   "execution_count": 25,
   "id": "6486b210",
   "metadata": {},
   "outputs": [
    {
     "data": {
      "text/plain": [
       "array([91, 65, 45, 36, 66, 61, 63, 42, 61, 69, 84, 73, 27, 33, 68, 43, 67,\n",
       "       70, 30, 63, 71, 85, 73, 57, 35, 49, 66, 83, 74, 74, 39, 36, 58, 47,\n",
       "       60, 74, 42, 68, 32, 64, 45, 39, 58, 36, 71, 54, 17, 54],\n",
       "      dtype=int64)"
      ]
     },
     "execution_count": 25,
     "metadata": {},
     "output_type": "execute_result"
    }
   ],
   "source": [
    "y= df1.iloc[:,4].values\n",
    "y"
   ]
  },
  {
   "cell_type": "code",
   "execution_count": 26,
   "id": "4e42395f",
   "metadata": {},
   "outputs": [
    {
     "name": "stdout",
     "output_type": "stream",
     "text": [
      "[[ 7 99  9  1]\n",
      " [ 4 82  4  2]\n",
      " [ 8 51  7  2]\n",
      " [ 5 52  5  2]\n",
      " [ 7 75  8  5]\n",
      " [ 3 78  9  6]\n",
      " [ 7 73  5  6]\n",
      " [ 8 45  4  6]\n",
      " [ 5 77  8  2]\n",
      " [ 4 89  4  0]\n",
      " [ 8 91  4  5]\n",
      " [ 8 79  6  2]\n",
      " [ 3 47  9  2]\n",
      " [ 6 47  4  2]\n",
      " [ 5 79  7  7]\n",
      " [ 2 72  4  3]\n",
      " [ 8 73  8  4]\n",
      " [ 6 83  7  2]\n",
      " [ 2 54  4  8]\n",
      " [ 5 75  7  0]\n",
      " [ 1 99  4  3]\n",
      " [ 6 96  9  0]\n",
      " [ 9 74  7  6]\n",
      " [ 1 85  5  6]\n",
      " [ 3 61  6  3]\n",
      " [ 7 62  7  4]\n",
      " [ 4 79  8  8]\n",
      " [ 9 84  6  6]\n",
      " [ 3 94  6  5]\n",
      " [ 5 90  4  3]\n",
      " [ 3 61  7  3]\n",
      " [ 7 44  9  1]\n",
      " [ 5 70  6  8]\n",
      " [ 9 52  8  1]\n",
      " [ 7 67  9  3]\n",
      " [ 2 97  9  4]\n",
      " [ 4 59  8  3]\n",
      " [ 9 72  8  2]\n",
      " [ 2 55  4  1]\n",
      " [ 9 68  5  3]\n",
      " [ 5 62  7  4]\n",
      " [ 2 63  6  0]\n",
      " [ 4 73  7  0]\n",
      " [ 7 46  9  5]\n",
      " [ 8 77  6  4]\n",
      " [ 3 76  4  3]\n",
      " [ 1 43  7  0]\n",
      " [ 4 73  4  6]]\n"
     ]
    }
   ],
   "source": [
    "from sklearn.preprocessing import LabelEncoder\n",
    "le= LabelEncoder()\n",
    "x[:,3]=le.fit_transform(x[:,3])\n",
    "print(x)"
   ]
  },
  {
   "cell_type": "code",
   "execution_count": 27,
   "id": "2dfb877b",
   "metadata": {},
   "outputs": [
    {
     "name": "stdout",
     "output_type": "stream",
     "text": [
      "X Shape (48, 4)\n",
      "Y Shape (48,)\n",
      "X_Train Shape (38, 4)\n",
      "Y_Train Shape (38,)\n",
      "X_Test Shape (10, 4)\n",
      "Y_Test Shape (10,)\n"
     ]
    }
   ],
   "source": [
    "from sklearn.model_selection import train_test_split\n",
    "x_train, x_test, y_train, y_test = train_test_split(x,y,test_size=0.2,random_state=42)\n",
    "print('X Shape',x.shape)\n",
    "print('Y Shape',y.shape)\n",
    "print('X_Train Shape',x_train.shape)\n",
    "print('Y_Train Shape',y_train.shape)\n",
    "print('X_Test Shape',x_test.shape)\n",
    "print('Y_Test Shape',y_test.shape)"
   ]
  },
  {
   "cell_type": "code",
   "execution_count": 28,
   "id": "a89a278f",
   "metadata": {},
   "outputs": [
    {
     "data": {
      "text/html": [
       "<style>#sk-container-id-1 {color: black;background-color: white;}#sk-container-id-1 pre{padding: 0;}#sk-container-id-1 div.sk-toggleable {background-color: white;}#sk-container-id-1 label.sk-toggleable__label {cursor: pointer;display: block;width: 100%;margin-bottom: 0;padding: 0.3em;box-sizing: border-box;text-align: center;}#sk-container-id-1 label.sk-toggleable__label-arrow:before {content: \"▸\";float: left;margin-right: 0.25em;color: #696969;}#sk-container-id-1 label.sk-toggleable__label-arrow:hover:before {color: black;}#sk-container-id-1 div.sk-estimator:hover label.sk-toggleable__label-arrow:before {color: black;}#sk-container-id-1 div.sk-toggleable__content {max-height: 0;max-width: 0;overflow: hidden;text-align: left;background-color: #f0f8ff;}#sk-container-id-1 div.sk-toggleable__content pre {margin: 0.2em;color: black;border-radius: 0.25em;background-color: #f0f8ff;}#sk-container-id-1 input.sk-toggleable__control:checked~div.sk-toggleable__content {max-height: 200px;max-width: 100%;overflow: auto;}#sk-container-id-1 input.sk-toggleable__control:checked~label.sk-toggleable__label-arrow:before {content: \"▾\";}#sk-container-id-1 div.sk-estimator input.sk-toggleable__control:checked~label.sk-toggleable__label {background-color: #d4ebff;}#sk-container-id-1 div.sk-label input.sk-toggleable__control:checked~label.sk-toggleable__label {background-color: #d4ebff;}#sk-container-id-1 input.sk-hidden--visually {border: 0;clip: rect(1px 1px 1px 1px);clip: rect(1px, 1px, 1px, 1px);height: 1px;margin: -1px;overflow: hidden;padding: 0;position: absolute;width: 1px;}#sk-container-id-1 div.sk-estimator {font-family: monospace;background-color: #f0f8ff;border: 1px dotted black;border-radius: 0.25em;box-sizing: border-box;margin-bottom: 0.5em;}#sk-container-id-1 div.sk-estimator:hover {background-color: #d4ebff;}#sk-container-id-1 div.sk-parallel-item::after {content: \"\";width: 100%;border-bottom: 1px solid gray;flex-grow: 1;}#sk-container-id-1 div.sk-label:hover label.sk-toggleable__label {background-color: #d4ebff;}#sk-container-id-1 div.sk-serial::before {content: \"\";position: absolute;border-left: 1px solid gray;box-sizing: border-box;top: 0;bottom: 0;left: 50%;z-index: 0;}#sk-container-id-1 div.sk-serial {display: flex;flex-direction: column;align-items: center;background-color: white;padding-right: 0.2em;padding-left: 0.2em;position: relative;}#sk-container-id-1 div.sk-item {position: relative;z-index: 1;}#sk-container-id-1 div.sk-parallel {display: flex;align-items: stretch;justify-content: center;background-color: white;position: relative;}#sk-container-id-1 div.sk-item::before, #sk-container-id-1 div.sk-parallel-item::before {content: \"\";position: absolute;border-left: 1px solid gray;box-sizing: border-box;top: 0;bottom: 0;left: 50%;z-index: -1;}#sk-container-id-1 div.sk-parallel-item {display: flex;flex-direction: column;z-index: 1;position: relative;background-color: white;}#sk-container-id-1 div.sk-parallel-item:first-child::after {align-self: flex-end;width: 50%;}#sk-container-id-1 div.sk-parallel-item:last-child::after {align-self: flex-start;width: 50%;}#sk-container-id-1 div.sk-parallel-item:only-child::after {width: 0;}#sk-container-id-1 div.sk-dashed-wrapped {border: 1px dashed gray;margin: 0 0.4em 0.5em 0.4em;box-sizing: border-box;padding-bottom: 0.4em;background-color: white;}#sk-container-id-1 div.sk-label label {font-family: monospace;font-weight: bold;display: inline-block;line-height: 1.2em;}#sk-container-id-1 div.sk-label-container {text-align: center;}#sk-container-id-1 div.sk-container {/* jupyter's `normalize.less` sets `[hidden] { display: none; }` but bootstrap.min.css set `[hidden] { display: none !important; }` so we also need the `!important` here to be able to override the default hidden behavior on the sphinx rendered scikit-learn.org. See: https://github.com/scikit-learn/scikit-learn/issues/21755 */display: inline-block !important;position: relative;}#sk-container-id-1 div.sk-text-repr-fallback {display: none;}</style><div id=\"sk-container-id-1\" class=\"sk-top-container\"><div class=\"sk-text-repr-fallback\"><pre>LinearRegression()</pre><b>In a Jupyter environment, please rerun this cell to show the HTML representation or trust the notebook. <br />On GitHub, the HTML representation is unable to render, please try loading this page with nbviewer.org.</b></div><div class=\"sk-container\" hidden><div class=\"sk-item\"><div class=\"sk-estimator sk-toggleable\"><input class=\"sk-toggleable__control sk-hidden--visually\" id=\"sk-estimator-id-1\" type=\"checkbox\" checked><label for=\"sk-estimator-id-1\" class=\"sk-toggleable__label sk-toggleable__label-arrow\">LinearRegression</label><div class=\"sk-toggleable__content\"><pre>LinearRegression()</pre></div></div></div></div></div>"
      ],
      "text/plain": [
       "LinearRegression()"
      ]
     },
     "execution_count": 28,
     "metadata": {},
     "output_type": "execute_result"
    }
   ],
   "source": [
    "from sklearn.linear_model import LinearRegression\n",
    "lr = LinearRegression()\n",
    "lr.fit (x_train,y_train)"
   ]
  },
  {
   "cell_type": "code",
   "execution_count": 29,
   "id": "e096158e",
   "metadata": {},
   "outputs": [
    {
     "name": "stdout",
     "output_type": "stream",
     "text": [
      "[81.63105966 47.96910042 63.59067357 39.37086871 40.25552657 69.58487872\n",
      " 27.66024363 59.63345169 67.56677949 53.86579799]\n"
     ]
    }
   ],
   "source": [
    "y_pred = lr.predict (x_test)\n",
    "print(y_pred)"
   ]
  },
  {
   "cell_type": "code",
   "execution_count": 30,
   "id": "8adb48cb",
   "metadata": {},
   "outputs": [
    {
     "name": "stdout",
     "output_type": "stream",
     "text": [
      "   Prediction  Y_test  Difference\n",
      "0   81.631060      83    1.368940\n",
      "1   47.969100      45   -2.969100\n",
      "2   63.590674      66    2.409326\n",
      "3   39.370869      36   -3.370869\n",
      "4   40.255527      35   -5.255527\n",
      "5   69.584879      68   -1.584879\n",
      "6   27.660244      27   -0.660244\n",
      "7   59.633452      63    3.366548\n",
      "8   67.566779      66   -1.566779\n",
      "9   53.865798      49   -4.865798\n"
     ]
    }
   ],
   "source": [
    "result = pd.concat([pd.DataFrame(y_pred,columns=['Prediction']),\n",
    "                   pd.DataFrame(y_test,columns=['Y_test'])],axis = 1)\n",
    "result['Difference']= y_test-y_pred\n",
    "print(result)"
   ]
  },
  {
   "cell_type": "code",
   "execution_count": 34,
   "id": "c2ecd009",
   "metadata": {},
   "outputs": [
    {
     "data": {
      "image/png": "[encoded data removed]",
      "text/plain": [
       "<Figure size 640x480 with 1 Axes>"
      ]
     },
     "metadata": {},
     "output_type": "display_data"
    }
   ],
   "source": [
    "import seaborn as sns\n",
    "sns.regplot(x = y_pred, y= y_test,scatter_kws={\"color\":\"b\"},\n",
    "           line_kws={\"color\":\"r\"},ci= None)\n",
    "plt.show()"
   ]
  },
  {
   "cell_type": "code",
   "execution_count": 38,
   "id": "fb5feb40",
   "metadata": {},
   "outputs": [
    {
     "data": {
      "text/html": [
       "<div>\n",
       "<style scoped>\n",
       "    .dataframe tbody tr th:only-of-type {\n",
       "        vertical-align: middle;\n",
       "    }\n",
       "\n",
       "    .dataframe tbody tr th {\n",
       "        vertical-align: top;\n",
       "    }\n",
       "\n",
       "    .dataframe thead th {\n",
       "        text-align: right;\n",
       "    }\n",
       "</style>\n",
       "<table border=\"1\" class=\"dataframe\">\n",
       "  <thead>\n",
       "    <tr style=\"text-align: right;\">\n",
       "      <th></th>\n",
       "      <th>Sleep Hours</th>\n",
       "      <th>Previous Scores</th>\n",
       "      <th>Hours studied</th>\n",
       "      <th>Papers solved</th>\n",
       "      <th>Actual</th>\n",
       "      <th>Prediction</th>\n",
       "      <th>Difference</th>\n",
       "    </tr>\n",
       "  </thead>\n",
       "  <tbody>\n",
       "    <tr>\n",
       "      <th>0</th>\n",
       "      <td>9</td>\n",
       "      <td>84</td>\n",
       "      <td>6</td>\n",
       "      <td>6</td>\n",
       "      <td>83</td>\n",
       "      <td>81.631060</td>\n",
       "      <td>-1.368940</td>\n",
       "    </tr>\n",
       "    <tr>\n",
       "      <th>1</th>\n",
       "      <td>5</td>\n",
       "      <td>62</td>\n",
       "      <td>7</td>\n",
       "      <td>4</td>\n",
       "      <td>45</td>\n",
       "      <td>47.969100</td>\n",
       "      <td>2.969100</td>\n",
       "    </tr>\n",
       "    <tr>\n",
       "      <th>2</th>\n",
       "      <td>4</td>\n",
       "      <td>79</td>\n",
       "      <td>8</td>\n",
       "      <td>8</td>\n",
       "      <td>66</td>\n",
       "      <td>63.590674</td>\n",
       "      <td>-2.409326</td>\n",
       "    </tr>\n",
       "    <tr>\n",
       "      <th>3</th>\n",
       "      <td>7</td>\n",
       "      <td>46</td>\n",
       "      <td>9</td>\n",
       "      <td>5</td>\n",
       "      <td>36</td>\n",
       "      <td>39.370869</td>\n",
       "      <td>3.370869</td>\n",
       "    </tr>\n",
       "    <tr>\n",
       "      <th>4</th>\n",
       "      <td>3</td>\n",
       "      <td>61</td>\n",
       "      <td>6</td>\n",
       "      <td>3</td>\n",
       "      <td>35</td>\n",
       "      <td>40.255527</td>\n",
       "      <td>5.255527</td>\n",
       "    </tr>\n",
       "    <tr>\n",
       "      <th>5</th>\n",
       "      <td>9</td>\n",
       "      <td>72</td>\n",
       "      <td>8</td>\n",
       "      <td>2</td>\n",
       "      <td>68</td>\n",
       "      <td>69.584879</td>\n",
       "      <td>1.584879</td>\n",
       "    </tr>\n",
       "    <tr>\n",
       "      <th>6</th>\n",
       "      <td>3</td>\n",
       "      <td>47</td>\n",
       "      <td>9</td>\n",
       "      <td>2</td>\n",
       "      <td>27</td>\n",
       "      <td>27.660244</td>\n",
       "      <td>0.660244</td>\n",
       "    </tr>\n",
       "    <tr>\n",
       "      <th>7</th>\n",
       "      <td>5</td>\n",
       "      <td>75</td>\n",
       "      <td>7</td>\n",
       "      <td>0</td>\n",
       "      <td>63</td>\n",
       "      <td>59.633452</td>\n",
       "      <td>-3.366548</td>\n",
       "    </tr>\n",
       "    <tr>\n",
       "      <th>8</th>\n",
       "      <td>7</td>\n",
       "      <td>75</td>\n",
       "      <td>8</td>\n",
       "      <td>5</td>\n",
       "      <td>66</td>\n",
       "      <td>67.566779</td>\n",
       "      <td>1.566779</td>\n",
       "    </tr>\n",
       "    <tr>\n",
       "      <th>9</th>\n",
       "      <td>7</td>\n",
       "      <td>62</td>\n",
       "      <td>7</td>\n",
       "      <td>4</td>\n",
       "      <td>49</td>\n",
       "      <td>53.865798</td>\n",
       "      <td>4.865798</td>\n",
       "    </tr>\n",
       "  </tbody>\n",
       "</table>\n",
       "</div>"
      ],
      "text/plain": [
       "   Sleep Hours  Previous Scores  Hours studied  Papers solved  Actual  \\\n",
       "0            9               84              6              6      83   \n",
       "1            5               62              7              4      45   \n",
       "2            4               79              8              8      66   \n",
       "3            7               46              9              5      36   \n",
       "4            3               61              6              3      35   \n",
       "5            9               72              8              2      68   \n",
       "6            3               47              9              2      27   \n",
       "7            5               75              7              0      63   \n",
       "8            7               75              8              5      66   \n",
       "9            7               62              7              4      49   \n",
       "\n",
       "   Prediction  Difference  \n",
       "0   81.631060   -1.368940  \n",
       "1   47.969100    2.969100  \n",
       "2   63.590674   -2.409326  \n",
       "3   39.370869    3.370869  \n",
       "4   40.255527    5.255527  \n",
       "5   69.584879    1.584879  \n",
       "6   27.660244    0.660244  \n",
       "7   59.633452   -3.366548  \n",
       "8   67.566779    1.566779  \n",
       "9   53.865798    4.865798  "
      ]
     },
     "metadata": {},
     "output_type": "display_data"
    }
   ],
   "source": [
    "y_pre = pd.DataFrame(y_pred,columns =['Prediction'])\n",
    "y_te =  pd.DataFrame(y_test,columns =['Actual'])\n",
    "x_te =  pd.DataFrame(x_test,columns =['Sleep Hours','Previous Scores', 'Hours studied','Papers solved'])\n",
    "\n",
    "result = pd.concat([x_te,y_te,y_pre],axis = 1)\n",
    "result['Difference']=y_pre['Prediction']-y_te['Actual']\n",
    "display(result)\n"
   ]
  },
  {
   "cell_type": "code",
   "execution_count": 39,
   "id": "d5e5f123",
   "metadata": {},
   "outputs": [
    {
     "name": "stdout",
     "output_type": "stream",
     "text": [
      "0.9672238440021673\n"
     ]
    }
   ],
   "source": [
    "from sklearn.metrics import r2_score\n",
    "accuracy = r2_score(y_test,y_pred)\n",
    "print(accuracy)"
   ]
  },
  {
   "cell_type": "code",
   "execution_count": 40,
   "id": "9d34db0e",
   "metadata": {},
   "outputs": [
    {
     "name": "stdout",
     "output_type": "stream",
     "text": [
      "[90.64890403 62.65051515 45.31533564 36.41261106 67.56677949 59.57094482\n",
      " 64.31658881 39.0113486  62.74319408 68.97786184 84.26456125 72.52090432\n",
      " 27.66024363 33.88523917 65.71248818 47.15292058 68.23192006 71.10958531\n",
      " 30.83938282 59.63345169 70.94380853 84.42700493 72.25164881 58.51060131\n",
      " 40.25552657 53.86579799 63.59067357 81.63105966 73.54186394 73.82412476\n",
      " 40.77953673 36.18008845 56.57792312 49.47551267 59.56300481 74.83404793\n",
      " 42.27121148 69.58487872 29.71205683 64.35400384 47.96910042 38.38028995\n",
      " 54.7044187  39.37086871 71.14526814 54.06263777 16.1491093  54.94753229]\n"
     ]
    }
   ],
   "source": [
    "y_fpred = lr.predict(x)\n",
    "print(y_fpred)"
   ]
  },
  {
   "cell_type": "code",
   "execution_count": 43,
   "id": "f3624078",
   "metadata": {},
   "outputs": [
    {
     "name": "stdout",
     "output_type": "stream",
     "text": [
      "    Hours Studied  Previous Scores  Sleep Hours  \\\n",
      "0               7               99            9   \n",
      "1               4               82            4   \n",
      "2               8               51            7   \n",
      "3               5               52            5   \n",
      "4               7               75            8   \n",
      "5               3               78            9   \n",
      "6               7               73            5   \n",
      "7               8               45            4   \n",
      "8               5               77            8   \n",
      "9               4               89            4   \n",
      "10              8               91            4   \n",
      "11              8               79            6   \n",
      "12              3               47            9   \n",
      "13              6               47            4   \n",
      "14              5               79            7   \n",
      "15              2               72            4   \n",
      "16              8               73            8   \n",
      "17              6               83            7   \n",
      "18              2               54            4   \n",
      "19              5               75            7   \n",
      "20              1               99            4   \n",
      "21              6               96            9   \n",
      "22              9               74            7   \n",
      "23              1               85            5   \n",
      "24              3               61            6   \n",
      "25              7               62            7   \n",
      "26              4               79            8   \n",
      "27              9               84            6   \n",
      "28              3               94            6   \n",
      "29              5               90            4   \n",
      "30              3               61            7   \n",
      "31              7               44            9   \n",
      "32              5               70            6   \n",
      "33              9               52            8   \n",
      "34              7               67            9   \n",
      "35              2               97            9   \n",
      "36              4               59            8   \n",
      "37              9               72            8   \n",
      "38              2               55            4   \n",
      "39              9               68            5   \n",
      "40              5               62            7   \n",
      "41              2               63            6   \n",
      "42              4               73            7   \n",
      "43              7               46            9   \n",
      "44              8               77            6   \n",
      "45              3               76            4   \n",
      "46              1               43            7   \n",
      "47              4               73            4   \n",
      "\n",
      "    Sample Question Papers Practiced  Performance Index  Prediction  \\\n",
      "0                                  1                 91   90.648904   \n",
      "1                                  2                 65   62.650515   \n",
      "2                                  2                 45   45.315336   \n",
      "3                                  2                 36   36.412611   \n",
      "4                                  5                 66   67.566779   \n",
      "5                                  6                 61   59.570945   \n",
      "6                                  6                 63   64.316589   \n",
      "7                                  6                 42   39.011349   \n",
      "8                                  2                 61   62.743194   \n",
      "9                                  0                 69   68.977862   \n",
      "10                                 5                 84   84.264561   \n",
      "11                                 2                 73   72.520904   \n",
      "12                                 2                 27   27.660244   \n",
      "13                                 2                 33   33.885239   \n",
      "14                                 7                 68   65.712488   \n",
      "15                                 3                 43   47.152921   \n",
      "16                                 4                 67   68.231920   \n",
      "17                                 2                 70   71.109585   \n",
      "18                                 8                 30   30.839383   \n",
      "19                                 0                 63   59.633452   \n",
      "20                                 3                 71   70.943809   \n",
      "21                                 0                 85   84.427005   \n",
      "22                                 6                 73   72.251649   \n",
      "23                                 6                 57   58.510601   \n",
      "24                                 3                 35   40.255527   \n",
      "25                                 4                 49   53.865798   \n",
      "26                                 8                 66   63.590674   \n",
      "27                                 6                 83   81.631060   \n",
      "28                                 5                 74   73.541864   \n",
      "29                                 3                 74   73.824125   \n",
      "30                                 3                 39   40.779537   \n",
      "31                                 1                 36   36.180088   \n",
      "32                                 8                 58   56.577923   \n",
      "33                                 1                 47   49.475513   \n",
      "34                                 3                 60   59.563005   \n",
      "35                                 4                 74   74.834048   \n",
      "36                                 3                 42   42.271211   \n",
      "37                                 2                 68   69.584879   \n",
      "38                                 1                 32   29.712057   \n",
      "39                                 3                 64   64.354004   \n",
      "40                                 4                 45   47.969100   \n",
      "41                                 0                 39   38.380290   \n",
      "42                                 0                 58   54.704419   \n",
      "43                                 5                 36   39.370869   \n",
      "44                                 4                 71   71.145268   \n",
      "45                                 3                 54   54.062638   \n",
      "46                                 0                 17   16.149109   \n",
      "47                                 6                 54   54.947532   \n",
      "\n",
      "    Difference  \n",
      "0     8.351096  \n",
      "1    19.349485  \n",
      "2     5.684664  \n",
      "3    15.587389  \n",
      "4     7.433221  \n",
      "5    18.429055  \n",
      "6     8.683411  \n",
      "7     5.988651  \n",
      "8    14.256806  \n",
      "9    20.022138  \n",
      "10    6.735439  \n",
      "11    6.479096  \n",
      "12   19.339756  \n",
      "13   13.114761  \n",
      "14   13.287512  \n",
      "15   24.847079  \n",
      "16    4.768080  \n",
      "17   11.890415  \n",
      "18   23.160617  \n",
      "19   15.366548  \n",
      "20   28.056191  \n",
      "21   11.572995  \n",
      "22    1.748351  \n",
      "23   26.489399  \n",
      "24   20.744473  \n",
      "25    8.134202  \n",
      "26   15.409326  \n",
      "27    2.368940  \n",
      "28   20.458136  \n",
      "29   16.175875  \n",
      "30   20.220463  \n",
      "31    7.819912  \n",
      "32   13.422077  \n",
      "33    2.524487  \n",
      "34    7.436995  \n",
      "35   22.165952  \n",
      "36   16.728789  \n",
      "37    2.415121  \n",
      "38   25.287943  \n",
      "39    3.645996  \n",
      "40   14.030900  \n",
      "41   24.619710  \n",
      "42   18.295581  \n",
      "43    6.629131  \n",
      "44    5.854732  \n",
      "45   21.937362  \n",
      "46   26.850891  \n",
      "47   18.052468  \n"
     ]
    }
   ],
   "source": [
    "y_fpred = pd.DataFrame(y_fpred,columns= ['Prediction'])\n",
    "result = pd.concat([df1,y_fpred], axis = 1)\n",
    "result['Difference']= result['Previous Scores']- result['Prediction']\n",
    "print(result)"
   ]
  },
  {
   "cell_type": "code",
   "execution_count": 45,
   "id": "a4562b71",
   "metadata": {},
   "outputs": [
    {
     "data": {
      "image/png": "[encoded data removed]",
      "text/plain": [
       "<Figure size 640x480 with 1 Axes>"
      ]
     },
     "metadata": {},
     "output_type": "display_data"
    }
   ],
   "source": [
    "import seaborn as sns\n",
    "sns.regplot(x = y_fpred, y= y,scatter_kws={\"color\":\"b\"},\n",
    "           line_kws={\"color\":\"r\"},ci= None)\n",
    "plt.show()"
   ]
  },
  {
   "cell_type": "code",
   "execution_count": 46,
   "id": "2c869c93",
   "metadata": {},
   "outputs": [
    {
     "name": "stdout",
     "output_type": "stream",
     "text": [
      "0.9873868970562676\n"
     ]
    }
   ],
   "source": [
    "from sklearn.metrics import r2_score\n",
    "accuracy = r2_score(y,y_fpred)\n",
    "print(accuracy)"
   ]
  },
  {
   "cell_type": "code",
   "execution_count": null,
   "id": "267bebc4",
   "metadata": {},
   "outputs": [],
   "source": []
  }
 ],
 "metadata": {
  "kernelspec": {
   "display_name": "Python 3 (ipykernel)",
   "language": "python",
   "name": "python3"
  },
  "language_info": {
   "codemirror_mode": {
    "name": "ipython",
    "version": 3
   },
   "file_extension": ".py",
   "mimetype": "text/x-python",
   "name": "python",
   "nbconvert_exporter": "python",
   "pygments_lexer": "ipython3",
   "version": "3.11.7"
  }
 },
 "nbformat": 4,
 "nbformat_minor": 5
}
